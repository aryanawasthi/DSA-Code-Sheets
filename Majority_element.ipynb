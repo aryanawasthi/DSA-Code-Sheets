{
  "metadata": {
    "language_info": {
      "codemirror_mode": {
        "name": "python",
        "version": 3
      },
      "file_extension": ".py",
      "mimetype": "text/x-python",
      "name": "python",
      "nbconvert_exporter": "python",
      "pygments_lexer": "ipython3",
      "version": "3.8"
    },
    "kernelspec": {
      "name": "python",
      "display_name": "Python (Pyodide)",
      "language": "python"
    }
  },
  "nbformat_minor": 4,
  "nbformat": 4,
  "cells": [
    {
      "cell_type": "code",
      "source": "\n# here problem is defined as to find the majority element which occurs more than N/2 times in the array.\n# so our appproach should be to find to find the frequency of the element which will help us to decide whether the given is smalller or greater\nclass solution:\n    # defining the function in an array\n    def majorityElement(self,A,N):\n        # creating a blank dictionary\n        a={}\n        # finding the middle element\n        mid=N//2\n        # for edge case when we have only one element.\n        if N==1:\n            # return the value\n            return A[0]\n        # itertaing through the loop\n        for i in range(N):\n            # if the element A[i] is present in keys of the dictionary then add 1 to frequency\n            if A[i] in a.keys():\n                a[A[i]]+=1\n                # if value of frequency is greater than 1 then retunr the value\n                if a[A[i]]>mid:\n                       print(a[A[i]])\n            # otherwise create a key of A[i] in dict 1\n            else:\n                a[A[i]]=1\n        # if no element satisfies the condition then return -1\n        print(-1)\n\nc1=solution()\nc1.majorityElement([1,2,3,4,3,2,2],7)",
      "metadata": {
        "trusted": true
      },
      "execution_count": 3,
      "outputs": [
        {
          "name": "stdout",
          "text": "-1\n",
          "output_type": "stream"
        }
      ]
    },
    {
      "cell_type": "code",
      "source": "",
      "metadata": {},
      "execution_count": null,
      "outputs": []
    }
  ]
}