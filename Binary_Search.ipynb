{
 "cells": [
  {
   "cell_type": "code",
   "execution_count": 2,
   "id": "1e179a37",
   "metadata": {},
   "outputs": [],
   "source": [
    "class solution:\n",
    "    def display(self,arr,size):\n",
    "        #function to display an array\n",
    "        for i in range(size):\n",
    "            # take the loop and run it for all elements\n",
    "            print(arr[i])\n",
    "            #print the given element\n",
    "            \n",
    "            \n",
    "    def binary_search(self,arr,element):\n",
    "        #function to define a binary search\n",
    "        lo=0\n",
    "        # least value of index\n",
    "        hi=len(arr)-1\n",
    "        # maximum value of index in the array as there are n element whose index starts from 0 so total of n-1 indexes\n",
    "        mid=(lo+hi)//2\n",
    "        # finding the middle value of index\n",
    "        mid_el=arr[mid]\n",
    "        # finding the array value at the middle index\n",
    "        while lo<=hi:\n",
    "            # run the loop till index at lo position is lower than the index at higher because otherwise loop  will \n",
    "            # infintely in the value\n",
    "            #check whether the element at middle index is equal to our element\n",
    "            if arr[mid]==element:\n",
    "                # if both the elements are same then return the value\n",
    "                return mid\n",
    "            # check if the middle element is smaller than the required number then move the lower value to the index which is 1 +mid\n",
    "            if arr[mid]<element:\n",
    "                lo=mid+1\n",
    "            # check if the middle number in array is bigger than the smaller than the element then the element is in left side of middle element so we shift\n",
    "            # move the highest element to index which is mid -1\n",
    "            else:\n",
    "                hi=mid-1\n",
    "        # if element is not found then return -1\n",
    "        return -1"
   ]
  },
  {
   "cell_type": "code",
   "execution_count": null,
   "id": "c5248183",
   "metadata": {},
   "outputs": [],
   "source": [
    "c1=solution()\n",
    "arr=[1,2,4,56,78,98,102]\n",
    "element=78\n",
    "inte=c1.binary_search(arr,element)\n"
   ]
  },
  {
   "cell_type": "code",
   "execution_count": null,
   "id": "4a145eac",
   "metadata": {},
   "outputs": [],
   "source": [
    "print(\"a\")"
   ]
  },
  {
   "cell_type": "code",
   "execution_count": null,
   "id": "07fe90f8",
   "metadata": {},
   "outputs": [],
   "source": []
  }
 ],
 "metadata": {
  "kernelspec": {
   "display_name": "Python 3",
   "language": "python",
   "name": "python3"
  },
  "language_info": {
   "codemirror_mode": {
    "name": "ipython",
    "version": 3
   },
   "file_extension": ".py",
   "mimetype": "text/x-python",
   "name": "python",
   "nbconvert_exporter": "python",
   "pygments_lexer": "ipython3",
   "version": "3.6.12"
  }
 },
 "nbformat": 4,
 "nbformat_minor": 5
}
