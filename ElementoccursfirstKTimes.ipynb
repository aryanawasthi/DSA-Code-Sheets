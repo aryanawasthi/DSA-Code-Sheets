{
 "cells": [
  {
   "cell_type": "code",
   "execution_count": null,
   "id": "72b626c5",
   "metadata": {},
   "outputs": [],
   "source": [
    "# here the required question is to find the element in an array which repeats ceratin number of times before any element.\n",
    "#for e.g in array [1,2,3,3,2,1,4] both 1 2 and 3 are repeating 2 times but frequency of repetition of 3 is less e.g at index 2 and 3\n"
   ]
  },
  {
   "cell_type": "code",
   "execution_count": null,
   "id": "fda25e23",
   "metadata": {},
   "outputs": [],
   "source": [
    "class Solution:\n",
    "    def firstElementKTime(self,  a, n, k):\n",
    "        # defining the function which takes input array as a, size of array as n, number of repetitions as k.\n",
    "        \n",
    "        # code here\n",
    "        b={}\n",
    "        #  defining a blank dictionary to add the elements as keys and their frequencies as value.\n",
    "\n",
    "        # iterating each element in an array\n",
    "        for i in a:\n",
    "            # if element is not in array\n",
    "            if i not in b:\n",
    "                # add the element as in dictionary as dict[element] as key and 1 as frequency\n",
    "                b[i]=1\n",
    "                # if the value of k ==1 we can directly return the value\n",
    "                if b[i]==k:\n",
    "                    # return the element and exit out of the loop\n",
    "                    return i\n",
    "            # if element is already present in the dict      \n",
    "            else:\n",
    "                # add 1 in its v\n",
    "                b[i]+=1\n",
    "                if b[i]==k:\n",
    "                    return i\n",
    "        return-1"
   ]
  }
 ],
 "metadata": {
  "kernelspec": {
   "display_name": "Python 3",
   "language": "python",
   "name": "python3"
  },
  "language_info": {
   "codemirror_mode": {
    "name": "ipython",
    "version": 3
   },
   "file_extension": ".py",
   "mimetype": "text/x-python",
   "name": "python",
   "nbconvert_exporter": "python",
   "pygments_lexer": "ipython3",
   "version": "3.6.12"
  }
 },
 "nbformat": 4,
 "nbformat_minor": 5
}
