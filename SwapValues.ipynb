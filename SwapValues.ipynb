{
  "metadata": {
    "language_info": {
      "codemirror_mode": {
        "name": "python",
        "version": 3
      },
      "file_extension": ".py",
      "mimetype": "text/x-python",
      "name": "python",
      "nbconvert_exporter": "python",
      "pygments_lexer": "ipython3",
      "version": "3.8"
    },
    "kernelspec": {
      "name": "python",
      "display_name": "Python (Pyodide)",
      "language": "python"
    }
  },
  "nbformat_minor": 4,
  "nbformat": 4,
  "cells": [
    {
      "cell_type": "code",
      "source": "# we have A[] and B[] swaaping is done in such a ways uch that ewe have two vakues one a in A and b in B\n# A[]-a+b=B[]-b+a\n#A[]-B[]=a-b//2\n# hence this is our target\n\nclass Solution:\n    def findSwapValues(self,a, n, b, m):\n        x,y={},{}\n        sum_a,sum_b=0,0\n        for i in range(n):\n            sum_a+=a[i]\n            x[a[i]]=x.get(a[i],0)+1\n        for i in range(m):\n            sum_b+=b[i]\n            y[b[i]]=y.get(b[i],0)+1\n        if sum_a-sum_b!=0:\n            return -1\n        target=(sum_a-sum_b)//2\n        for i in x:\n            q= target + i\n            if q in y:\n                return 1\n                \n        return -1\n    \n    \n    ",
      "metadata": {
        "trusted": true
      },
      "execution_count": 86,
      "outputs": []
    },
    {
      "cell_type": "code",
      "source": "c1=Solution()\nc1.findSwapValues([4,1,2,1,1,2],6,[3,6,3,3],4)",
      "metadata": {
        "trusted": true
      },
      "execution_count": 64,
      "outputs": [
        {
          "execution_count": 64,
          "output_type": "execute_result",
          "data": {
            "text/plain": "1"
          },
          "metadata": {}
        }
      ]
    },
    {
      "cell_type": "code",
      "source": "# we have A[] and B[] swaaping is done in such a ways uch that ewe have two vakues one a in A and b in B\n# A[]-a+b=B[]-b+a\n#A[]-B[]=a-b//2\n# hence this is our target\nx={2:\"aryan\"\n  }\nprint(x.get(2,0))",
      "metadata": {
        "trusted": true
      },
      "execution_count": 67,
      "outputs": [
        {
          "name": "stdout",
          "text": "aryan\n",
          "output_type": "stream"
        }
      ]
    },
    {
      "cell_type": "code",
      "source": "",
      "metadata": {
        "trusted": true
      },
      "execution_count": 78,
      "outputs": []
    },
    {
      "cell_type": "code",
      "source": "",
      "metadata": {
        "trusted": true
      },
      "execution_count": 79,
      "outputs": [
        {
          "name": "stdout",
          "text": "{1: 1, 2: 1, 4: 1, 3: 1} {3: 1, 4: 1, 2: 1}\n",
          "output_type": "stream"
        }
      ]
    },
    {
      "cell_type": "code",
      "source": "class Solution:\n    def findSwapValues(self,a, n, b, m):\n        x,y={},{}\n        sum_a,sum_b=0,0\n        for i in range(n):\n            sum_a+=a[i]\n            x[a[i]]=x.get(a[i],0)+1\n        for i in range(m):\n            sum_b+=b[i]\n            y[b[i]]=y.get(b[i],0)+1\n        if sum_a-sum_b!=0:\n            return -1\n        target=(sum_a-sum_b)//2\n        for i in x:\n            q= target + i\n            if q in y:\n                return 1\n                \n        return -1\n    \n    \n    ",
      "metadata": {
        "trusted": true
      },
      "execution_count": 82,
      "outputs": []
    },
    {
      "cell_type": "code",
      "source": "c1=Solution()\nc1.findSwapValues([4,1,2,1,1,2],6,[3,6,3,3],4)",
      "metadata": {
        "trusted": true
      },
      "execution_count": 84,
      "outputs": [
        {
          "execution_count": 84,
          "output_type": "execute_result",
          "data": {
            "text/plain": "-1"
          },
          "metadata": {}
        }
      ]
    },
    {
      "cell_type": "code",
      "source": "",
      "metadata": {
        "trusted": true
      },
      "execution_count": 85,
      "outputs": [
        {
          "name": "stdout",
          "text": "2\n3\n",
          "output_type": "stream"
        }
      ]
    },
    {
      "cell_type": "code",
      "source": "",
      "metadata": {},
      "execution_count": null,
      "outputs": []
    }
  ]
}