{
 "cells": [
  {
   "cell_type": "code",
   "execution_count": null,
   "id": "2d52357c",
   "metadata": {},
   "outputs": [],
   "source": [
    "class solution:\n",
    "    # a program to find equillibrium point which means sum on left is equal to sum on right\n",
    "    def equillibrium_point(seld,arr,n):\n",
    "        total_sum=sum(arr)\n",
    "        # finding the total sum of array\n",
    "        left_sum=0\n",
    "        # taking the left sum as 0\n",
    "        for index,num in enumerate(arr):\n",
    "            # take index and num together we use enumerate function (0,1) and (1,2)\n",
    "            total_sum-=num\n",
    "            # subtracting the num from total sum\n",
    "            if left_sum==total_sum:\n",
    "                # if left sum is equal to total_sum\n",
    "                return index+1\n",
    "                # return the value which is index +1\n",
    "            if left_sum>total_sum:\n",
    "                # if left_sum is greter than total_sum then return from the loop.\n",
    "                return -1\n",
    "            left_sum+=num\n",
    "            # add the num in left sum\n",
    "            \n",
    "    # Alternate  method of when value is returned as after the for \n",
    "    def equill_point(seld,arr,n):\n",
    "        total_sum=sum(arr)\n",
    "        # finding the total sum of array\n",
    "        left_sum=0\n",
    "        # taking the left sum as 0\n",
    "        for index,num in enumerate(arr):\n",
    "            # take index and num together we use enumerate function (0,1) and (1,2)\n",
    "            total_sum-=num\n",
    "            # subtracting the num from total sum\n",
    "            if left_sum==total_sum:\n",
    "                # if left sum is equal to total_sum\n",
    "                return index+1\n",
    "                # return the value which is index +1\n",
    "            if left_sum>total_sum:\n",
    "                # if left_sum is greter than total_sum then return from the loop.\n",
    "                return -1\n",
    "            left_sum+=num\n",
    "            # add the num in left sum\n",
    "    \n",
    "            \n",
    "            \n",
    "       \n",
    "c1=solution()\n",
    "b1=c1.equillibrium_point([1,2,3,3,3],5)\n",
    "print(b1)"
   ]
  },
  {
   "cell_type": "code",
   "execution_count": null,
   "id": "2c314d90",
   "metadata": {},
   "outputs": [],
   "source": []
  }
 ],
 "metadata": {
  "kernelspec": {
   "display_name": "Python 3",
   "language": "python",
   "name": "python3"
  },
  "language_info": {
   "codemirror_mode": {
    "name": "ipython",
    "version": 3
   },
   "file_extension": ".py",
   "mimetype": "text/x-python",
   "name": "python",
   "nbconvert_exporter": "python",
   "pygments_lexer": "ipython3",
   "version": "3.6.12"
  }
 },
 "nbformat": 4,
 "nbformat_minor": 5
}
