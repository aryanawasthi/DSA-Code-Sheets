{
 "cells": [
  {
   "cell_type": "code",
   "execution_count": 6,
   "id": "4be28106",
   "metadata": {},
   "outputs": [
    {
     "name": "stdout",
     "output_type": "stream",
     "text": [
      "[2, 4, 3, 7, 5, 6]\n"
     ]
    }
   ],
   "source": [
    "\"\"\"Given an array arr of distinct elements of size N, the task is to rearrange the elements of the array\n",
    "in a zig-zag fashion so that suc tt the converted array should be in the below form\n",
    "for example N = 7\n",
    "Arr[] = {4, 3, 7, 8, 6, 2, 1}\n",
    "Output: 3 7 4 8 2 6 1\n",
    "Explanation: 3 < 7 > 4 < 8 > 2 < 6 > 1\"\"\"\n",
    "#here we will understand a very important concept that what to do when we have to use nested if and \n",
    "# when we have to check 2 differnt conditions and  implement on the basis of differenyt methods\n",
    "\n",
    "class solution:\n",
    "    # create a function to arrange array in such a way that [a,b,c]===[a<b>c]\n",
    "    def zig_zag_simple(self,arr,n):\n",
    "        #sorting the array in increasing order as [1,2,4,3,5] and after sorting --[1,2,3,4,5] and from 2nd element\n",
    "        # as 1 index is swapped then we can have the required pattern\n",
    "        arr.sort()\n",
    "        # iterating through the loop to get each value and we have to compare 2 elenment only once therefore each\n",
    "        # index is increased by 2 as shown\n",
    "        for i in range(1,n-1,2):\n",
    "            # swapping the element\n",
    "            arr[i],arr[i+1]=arr[i+1],arr[i]\n",
    "        # prining the zig zagged array\n",
    "        print(arr)\n",
    "    # defining a zig zag function when we have to check multiple conditions at multiple times   \n",
    "    def zig_zag(self,arr,n):\n",
    "        #set the value of flag as True\n",
    "        flag=True\n",
    "        # iterating each element except the last element as if a[n-1] is present then arr[n-1+1] will give out of range error.\n",
    "        for i in range(n-1):\n",
    "            if flag is True:\n",
    "                # if flag is true we can use flag as first condition\n",
    "                if arr[i]>arr[i+1]:\n",
    "                    # in first two elements if they are lesser then swap them\n",
    "                    arr[i],arr[i+1]=arr[i+1],arr[i]\n",
    "            else:\n",
    "                # if flag is false which means we need to evaluate for greater than condition of elements\n",
    "                if arr[i]<arr[i+1]:\n",
    "                    arr[i],arr[i+1]=arr[i+1],arr[i]\n",
    "            # changing the value  of flag after each repetition\n",
    "            flag=bool(1-flag)\n",
    "            \n",
    "        print(arr)\n",
    "    \n",
    "c1=solution()\n",
    "#c1.zig_zag_simple([2,3,4,5,7,6],6)  # [2,<4,>3, <6,>5,<7] as we required the zig zag pattern\n",
    "# here time compleixity is O(n*log(n)) as we have to use first sort(log(n))[binary_sort] and on the basis of which we have use loop(n)\n",
    "c1.zig_zag([2,3,4,5,7,6],6)      \n",
    "\n",
    "\n",
    "\"During this question there was a very good question in my mind. For simple zig_zag if n is odd(for e.g 5) we will\n",
    "leave 1st element so we have 4 elements and 2 pairs which can be compared and we add +2 in index. It is valid as as we give range=n-1\n",
    "but in case of even n we have 1 element reamining as we gave range as n-1. Then understand that we have covered upto n-2 and we add n-2+2 we get n which falsify the condition\""
   ]
  },
  {
   "cell_type": "code",
   "execution_count": null,
   "id": "6f1e9054",
   "metadata": {},
   "outputs": [],
   "source": [
    "\n"
   ]
  }
 ],
 "metadata": {
  "kernelspec": {
   "display_name": "Python 3",
   "language": "python",
   "name": "python3"
  },
  "language_info": {
   "codemirror_mode": {
    "name": "ipython",
    "version": 3
   },
   "file_extension": ".py",
   "mimetype": "text/x-python",
   "name": "python",
   "nbconvert_exporter": "python",
   "pygments_lexer": "ipython3",
   "version": "3.6.12"
  }
 },
 "nbformat": 4,
 "nbformat_minor": 5
}
